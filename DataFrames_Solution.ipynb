{
  "cells": [
    {
      "cell_type": "markdown",
      "metadata": {
        "id": "R3fBDjKmV_eW"
      },
      "source": [
        "<center>\n",
        "    <img src=\"https://gitlab.com/ibm/skills-network/courses/placeholder101/-/raw/master/labs/module%201/images/IDSNlogo.png\" width=\"300\" alt=\"cognitiveclass.ai logo\"  />\n",
        "</center>\n"
      ]
    },
    {
      "cell_type": "markdown",
      "metadata": {
        "id": "VAO3C98iV_eb"
      },
      "source": [
        "# **Introduction to DataFrames**\n"
      ]
    },
    {
      "cell_type": "markdown",
      "metadata": {
        "id": "Ba6SqfE5V_ec"
      },
      "source": [
        "Estimated time needed: **15** minutes\n"
      ]
    },
    {
      "cell_type": "markdown",
      "metadata": {
        "id": "J7DGVE6hV_ed"
      },
      "source": [
        "![](http://spark.apache.org/images/spark-logo.png)\n"
      ]
    },
    {
      "cell_type": "markdown",
      "metadata": {
        "id": "UfmIeTNDV_ed"
      },
      "source": [
        "## Objectives\n"
      ]
    },
    {
      "cell_type": "markdown",
      "metadata": {
        "id": "IKWSTvaPV_ee"
      },
      "source": [
        "A DataFrame is two-dimensional. Columns can be of different data types. DataFrames accept many data inputs including series and other DataFrames. You can pass indexes (row labels) and columns (column labels). Indexes can be numbers, dates, or strings/tuples.\n",
        "\n",
        "After completing this lab you will be able to:\n"
      ]
    },
    {
      "cell_type": "markdown",
      "metadata": {
        "id": "PPZWt1wgV_ef"
      },
      "source": [
        "*   Load a data file into a DataFrame\n",
        "*   View the data schema of a DataFrame\n",
        "*   Perform basic data manipulation\n",
        "*   Aggregate data in a DataFrame\n"
      ]
    },
    {
      "cell_type": "markdown",
      "metadata": {
        "id": "zkH4RyV4V_eh"
      },
      "source": [
        "***\n"
      ]
    },
    {
      "cell_type": "markdown",
      "metadata": {
        "id": "J2kS7SYEV_ei"
      },
      "source": [
        "## Setup\n"
      ]
    },
    {
      "cell_type": "markdown",
      "metadata": {
        "id": "n4lmbfh9V_ej"
      },
      "source": [
        "For this lab, we are going to be using Python and Spark (PySpark). These libraries should be installed in your lab environment or in SN Labs.\n"
      ]
    },
    {
      "cell_type": "markdown",
      "metadata": {
        "id": "trU03pQXV_ej"
      },
      "source": [
        "Pandas is a popular data science package for Python. In this lab, we use Pandas to load a CSV file from disc to a pandas dataframe in memory. PySpark is the Spark API for Python. In this lab, we use PySpark to initialize the spark context.\n"
      ]
    },
    {
      "cell_type": "code",
      "execution_count": 14,
      "metadata": {
        "colab": {
          "base_uri": "https://localhost:8080/"
        },
        "id": "7_Jwn2FDV_ek",
        "outputId": "0f0451e3-bd5f-4676-be8c-2e3245aba196"
      },
      "outputs": [
        {
          "output_type": "stream",
          "name": "stdout",
          "text": [
            "Requirement already satisfied: pyspark in /usr/local/lib/python3.7/dist-packages (3.2.1)\n",
            "Requirement already satisfied: py4j==0.10.9.3 in /usr/local/lib/python3.7/dist-packages (from pyspark) (0.10.9.3)\n",
            "Requirement already satisfied: findspark in /usr/local/lib/python3.7/dist-packages (2.0.1)\n",
            "Requirement already satisfied: pandas in /usr/local/lib/python3.7/dist-packages (1.3.5)\n",
            "Requirement already satisfied: pytz>=2017.3 in /usr/local/lib/python3.7/dist-packages (from pandas) (2018.9)\n",
            "Requirement already satisfied: python-dateutil>=2.7.3 in /usr/local/lib/python3.7/dist-packages (from pandas) (2.8.2)\n",
            "Requirement already satisfied: numpy>=1.17.3 in /usr/local/lib/python3.7/dist-packages (from pandas) (1.21.5)\n",
            "Requirement already satisfied: six>=1.5 in /usr/local/lib/python3.7/dist-packages (from python-dateutil>=2.7.3->pandas) (1.15.0)\n"
          ]
        }
      ],
      "source": [
        "# Installing required packages\n",
        "!pip install pyspark\n",
        "!pip install findspark\n",
        "!pip install pandas"
      ]
    },
    {
      "cell_type": "code",
      "execution_count": 15,
      "metadata": {
        "id": "AKuRUY7-V_el"
      },
      "outputs": [],
      "source": [
        "import findspark\n",
        "findspark.init()"
      ]
    },
    {
      "cell_type": "code",
      "execution_count": 16,
      "metadata": {
        "id": "SHBBBCObV_em"
      },
      "outputs": [],
      "source": [
        "import pandas as pd\n",
        "from pyspark import SparkContext, SparkConf\n",
        "from pyspark.sql import SparkSession"
      ]
    },
    {
      "cell_type": "markdown",
      "metadata": {
        "id": "pV8o984-V_em"
      },
      "source": [
        "## Exercise 1 -  Spark session\n"
      ]
    },
    {
      "cell_type": "markdown",
      "metadata": {
        "id": "pH8We110V_en"
      },
      "source": [
        "In this exercise, you will create and initialize the Spark session needed to load the dataframes and operate on it\n"
      ]
    },
    {
      "cell_type": "markdown",
      "metadata": {
        "id": "RYnKeQASV_en"
      },
      "source": [
        "#### Task 1: Creating the spark session and context\n"
      ]
    },
    {
      "cell_type": "code",
      "execution_count": 17,
      "metadata": {
        "id": "as7L547LV_en",
        "colab": {
          "base_uri": "https://localhost:8080/",
          "height": 294
        },
        "outputId": "2a985fae-b706-4bc1-afdd-624e8acb1e2e"
      },
      "outputs": [
        {
          "output_type": "error",
          "ename": "ValueError",
          "evalue": "ignored",
          "traceback": [
            "\u001b[0;31m---------------------------------------------------------------------------\u001b[0m",
            "\u001b[0;31mValueError\u001b[0m                                Traceback (most recent call last)",
            "\u001b[0;32m<ipython-input-17-9fe2b398bfc3>\u001b[0m in \u001b[0;36m<module>\u001b[0;34m()\u001b[0m\n\u001b[1;32m      1\u001b[0m \u001b[0;31m# Creating a spark context class\u001b[0m\u001b[0;34m\u001b[0m\u001b[0;34m\u001b[0m\u001b[0;34m\u001b[0m\u001b[0m\n\u001b[0;32m----> 2\u001b[0;31m \u001b[0msc\u001b[0m \u001b[0;34m=\u001b[0m \u001b[0mSparkContext\u001b[0m\u001b[0;34m(\u001b[0m\u001b[0;34m)\u001b[0m\u001b[0;34m\u001b[0m\u001b[0;34m\u001b[0m\u001b[0m\n\u001b[0m\u001b[1;32m      3\u001b[0m \u001b[0;34m\u001b[0m\u001b[0m\n\u001b[1;32m      4\u001b[0m \u001b[0;31m# Creating a spark session\u001b[0m\u001b[0;34m\u001b[0m\u001b[0;34m\u001b[0m\u001b[0;34m\u001b[0m\u001b[0m\n\u001b[1;32m      5\u001b[0m \u001b[0mspark\u001b[0m \u001b[0;34m=\u001b[0m \u001b[0mSparkSession\u001b[0m     \u001b[0;34m.\u001b[0m\u001b[0mbuilder\u001b[0m     \u001b[0;34m.\u001b[0m\u001b[0mappName\u001b[0m\u001b[0;34m(\u001b[0m\u001b[0;34m\"Python Spark DataFrames basic example\"\u001b[0m\u001b[0;34m)\u001b[0m     \u001b[0;34m.\u001b[0m\u001b[0mconfig\u001b[0m\u001b[0;34m(\u001b[0m\u001b[0;34m\"spark.some.config.option\"\u001b[0m\u001b[0;34m,\u001b[0m \u001b[0;34m\"some-value\"\u001b[0m\u001b[0;34m)\u001b[0m     \u001b[0;34m.\u001b[0m\u001b[0mgetOrCreate\u001b[0m\u001b[0;34m(\u001b[0m\u001b[0;34m)\u001b[0m\u001b[0;34m\u001b[0m\u001b[0;34m\u001b[0m\u001b[0m\n",
            "\u001b[0;32m/usr/local/lib/python3.7/dist-packages/pyspark/context.py\u001b[0m in \u001b[0;36m__init__\u001b[0;34m(self, master, appName, sparkHome, pyFiles, environment, batchSize, serializer, conf, gateway, jsc, profiler_cls)\u001b[0m\n\u001b[1;32m    142\u001b[0m                 \" is not allowed as it is a security risk.\")\n\u001b[1;32m    143\u001b[0m \u001b[0;34m\u001b[0m\u001b[0m\n\u001b[0;32m--> 144\u001b[0;31m         \u001b[0mSparkContext\u001b[0m\u001b[0;34m.\u001b[0m\u001b[0m_ensure_initialized\u001b[0m\u001b[0;34m(\u001b[0m\u001b[0mself\u001b[0m\u001b[0;34m,\u001b[0m \u001b[0mgateway\u001b[0m\u001b[0;34m=\u001b[0m\u001b[0mgateway\u001b[0m\u001b[0;34m,\u001b[0m \u001b[0mconf\u001b[0m\u001b[0;34m=\u001b[0m\u001b[0mconf\u001b[0m\u001b[0;34m)\u001b[0m\u001b[0;34m\u001b[0m\u001b[0;34m\u001b[0m\u001b[0m\n\u001b[0m\u001b[1;32m    145\u001b[0m         \u001b[0;32mtry\u001b[0m\u001b[0;34m:\u001b[0m\u001b[0;34m\u001b[0m\u001b[0;34m\u001b[0m\u001b[0m\n\u001b[1;32m    146\u001b[0m             self._do_init(master, appName, sparkHome, pyFiles, environment, batchSize, serializer,\n",
            "\u001b[0;32m/usr/local/lib/python3.7/dist-packages/pyspark/context.py\u001b[0m in \u001b[0;36m_ensure_initialized\u001b[0;34m(cls, instance, gateway, conf)\u001b[0m\n\u001b[1;32m    353\u001b[0m                         \u001b[0;34m\" created by %s at %s:%s \"\u001b[0m\u001b[0;34m\u001b[0m\u001b[0;34m\u001b[0m\u001b[0m\n\u001b[1;32m    354\u001b[0m                         % (currentAppName, currentMaster,\n\u001b[0;32m--> 355\u001b[0;31m                             callsite.function, callsite.file, callsite.linenum))\n\u001b[0m\u001b[1;32m    356\u001b[0m                 \u001b[0;32melse\u001b[0m\u001b[0;34m:\u001b[0m\u001b[0;34m\u001b[0m\u001b[0;34m\u001b[0m\u001b[0m\n\u001b[1;32m    357\u001b[0m                     \u001b[0mSparkContext\u001b[0m\u001b[0;34m.\u001b[0m\u001b[0m_active_spark_context\u001b[0m \u001b[0;34m=\u001b[0m \u001b[0minstance\u001b[0m\u001b[0;34m\u001b[0m\u001b[0;34m\u001b[0m\u001b[0m\n",
            "\u001b[0;31mValueError\u001b[0m: Cannot run multiple SparkContexts at once; existing SparkContext(app=pyspark-shell, master=local[*]) created by __init__ at <ipython-input-6-9fe2b398bfc3>:2 "
          ]
        }
      ],
      "source": [
        "# Creating a spark context class\n",
        "sc = SparkContext()\n",
        "\n",
        "# Creating a spark session\n",
        "spark = SparkSession \\\n",
        "    .builder \\\n",
        "    .appName(\"Python Spark DataFrames basic example\") \\\n",
        "    .config(\"spark.some.config.option\", \"some-value\") \\\n",
        "    .getOrCreate()"
      ]
    },
    {
      "cell_type": "markdown",
      "metadata": {
        "id": "bHvKw6IMV_eo"
      },
      "source": [
        "#### Task 2: Initialize Spark session\n",
        "\n",
        "To work with dataframes we just need to verify that the spark session instance has been created.\n"
      ]
    },
    {
      "cell_type": "code",
      "execution_count": null,
      "metadata": {
        "id": "2Uas_Y9QV_eo"
      },
      "outputs": [],
      "source": [
        "spark"
      ]
    },
    {
      "cell_type": "markdown",
      "metadata": {
        "id": "_HD4nFK5V_ep"
      },
      "source": [
        "## Exercise 2 - Load the data and Spark dataframe\n"
      ]
    },
    {
      "cell_type": "markdown",
      "metadata": {
        "id": "mTSvYtGHV_ep"
      },
      "source": [
        "In this section, you will first read the CSV file into a Pandas DataFrame and then read it into a Spark DataFrame.\n",
        "Pandas is a library used for data manipulation and analysis. Pandas offers data structures and operations for creating and manipulating Data Series and DataFrame objects. Data can be imported from various data sources, e.g., Numpy arrays, Python dictionaries, and CSV files. Pandas allows you to manipulate, organize and display the data.\n",
        "To create a Spark DataFrame we load an external DataFrame, called mtcars. This DataFrame includes 32 observations on 11 variables:\n",
        "\n",
        "| colIndex | colName | units/description                        |\n",
        "| :------: | :------ | :--------------------------------------- |\n",
        "|   [, 1]  | mpg     | Miles per gallon                         |\n",
        "|   [, 2]  | cyl     | Number of cylinders                      |\n",
        "|   [, 3]  | disp    | Displacement (cu.in.)                    |\n",
        "|   [, 4]  | hp      | Gross horsepower                         |\n",
        "|   [, 5]  | drat    | Rear axle ratio                          |\n",
        "|   [, 6]  | wt      | Weight (lb/1000)                         |\n",
        "|   [, 7]  | qsec    | 1/4 mile time                            |\n",
        "|   [, 8]  | vs      | V/S                                      |\n",
        "|   [, 9]  | am      | Transmission (0 = automatic, 1 = manual) |\n",
        "|   [,10]  | gear    | Number of forward gears                  |\n",
        "|   [,11]  | carb    | Number of carburetors                    |\n"
      ]
    },
    {
      "cell_type": "markdown",
      "metadata": {
        "id": "5PdY97ZmV_eq"
      },
      "source": [
        "#### Task 1: Loading data into a Pandas DataFrame\n"
      ]
    },
    {
      "cell_type": "code",
      "execution_count": null,
      "metadata": {
        "id": "W7qVh7HXV_eq"
      },
      "outputs": [],
      "source": [
        "# Read the file using `read_csv` function in pandas\n",
        "mtcars = pd.read_csv('https://cf-courses-data.s3.us.cloud-object-storage.appdomain.cloud/IBM-BD0225EN-SkillsNetwork/labs/data/mtcars.csv')"
      ]
    },
    {
      "cell_type": "code",
      "execution_count": null,
      "metadata": {
        "id": "5oETk5EsV_er"
      },
      "outputs": [],
      "source": [
        "# Preview a few records\n",
        "mtcars.head()"
      ]
    },
    {
      "cell_type": "markdown",
      "metadata": {
        "id": "a0YjAwnFV_er"
      },
      "source": [
        "#### Task 2: Loading data into a Spark DataFrame\n"
      ]
    },
    {
      "cell_type": "code",
      "execution_count": 23,
      "metadata": {
        "id": "sZ7xcVF0V_er"
      },
      "outputs": [],
      "source": [
        "# We use the `createDataFrame` function to load the data into a spark dataframe\n",
        "sdf = spark.createDataFrame(mtcars) "
      ]
    },
    {
      "cell_type": "code",
      "execution_count": 24,
      "metadata": {
        "colab": {
          "base_uri": "https://localhost:8080/"
        },
        "id": "HLUOSyqIV_er",
        "outputId": "b4c0f4ee-ad67-4939-d12a-e290a2356de6"
      },
      "outputs": [
        {
          "output_type": "stream",
          "name": "stdout",
          "text": [
            "root\n",
            " |-- Unnamed: 0: string (nullable = true)\n",
            " |-- mpg: double (nullable = true)\n",
            " |-- cyl: long (nullable = true)\n",
            " |-- disp: double (nullable = true)\n",
            " |-- hp: long (nullable = true)\n",
            " |-- drat: double (nullable = true)\n",
            " |-- wt: double (nullable = true)\n",
            " |-- qsec: double (nullable = true)\n",
            " |-- vs: long (nullable = true)\n",
            " |-- am: long (nullable = true)\n",
            " |-- gear: long (nullable = true)\n",
            " |-- carb: long (nullable = true)\n",
            "\n"
          ]
        }
      ],
      "source": [
        "# Let us look at the schema of the loaded spark dataframe\n",
        "sdf.printSchema()"
      ]
    },
    {
      "cell_type": "markdown",
      "metadata": {
        "id": "CGR-fc2HV_es"
      },
      "source": [
        "## Exercise 3: Basic data analysis and manipulation\n",
        "\n",
        "In this section, we perform basic data analysis and manipulation. We start with previewing the data and then applying some filtering and columwise operations.\n"
      ]
    },
    {
      "cell_type": "markdown",
      "metadata": {
        "id": "DU0mcSlRV_es"
      },
      "source": [
        "#### Task 1: Displays the content of the DataFrame\n",
        "\n",
        "We use the `show()` method for this. Here we preview the first 5 records. Compare it to a similar `head()` function in Pandas.\n"
      ]
    },
    {
      "cell_type": "code",
      "execution_count": 22,
      "metadata": {
        "colab": {
          "base_uri": "https://localhost:8080/"
        },
        "id": "BoNpPKw0V_es",
        "outputId": "f63889e2-2030-498a-da13-c6203dce860c"
      },
      "outputs": [
        {
          "output_type": "stream",
          "name": "stdout",
          "text": [
            "+-----------------+----+---+-----+---+----+-----+-----+---+---+----+----+\n",
            "|       Unnamed: 0| mpg|cyl| disp| hp|drat|   wt| qsec| vs| am|gear|carb|\n",
            "+-----------------+----+---+-----+---+----+-----+-----+---+---+----+----+\n",
            "|        Mazda RX4|21.0|  6|160.0|110| 3.9| 2.62|16.46|  0|  1|   4|   4|\n",
            "|    Mazda RX4 Wag|21.0|  6|160.0|110| 3.9|2.875|17.02|  0|  1|   4|   4|\n",
            "|       Datsun 710|22.8|  4|108.0| 93|3.85| 2.32|18.61|  1|  1|   4|   1|\n",
            "|   Hornet 4 Drive|21.4|  6|258.0|110|3.08|3.215|19.44|  1|  0|   3|   1|\n",
            "|Hornet Sportabout|18.7|  8|360.0|175|3.15| 3.44|17.02|  0|  0|   3|   2|\n",
            "+-----------------+----+---+-----+---+----+-----+-----+---+---+----+----+\n",
            "only showing top 5 rows\n",
            "\n"
          ]
        }
      ],
      "source": [
        "sdf.show(5)"
      ]
    },
    {
      "cell_type": "markdown",
      "metadata": {
        "id": "x90MRdJgV_eu"
      },
      "source": [
        "We use the `select()` function to select a particular column of data. Here we show the `mpg` column.\n"
      ]
    },
    {
      "cell_type": "code",
      "execution_count": 13,
      "metadata": {
        "id": "XxNiyufiV_ev",
        "outputId": "e42c91ea-c50e-47a0-dc3b-05c941217d0c",
        "colab": {
          "base_uri": "https://localhost:8080/"
        }
      },
      "outputs": [
        {
          "output_type": "stream",
          "name": "stdout",
          "text": [
            "+----+\n",
            "| mpg|\n",
            "+----+\n",
            "|21.0|\n",
            "|21.0|\n",
            "|22.8|\n",
            "|21.4|\n",
            "|18.7|\n",
            "+----+\n",
            "only showing top 5 rows\n",
            "\n"
          ]
        }
      ],
      "source": [
        "sdf.select('mpg').show(5)"
      ]
    },
    {
      "cell_type": "markdown",
      "metadata": {
        "id": "ZwYFGyiBV_ew"
      },
      "source": [
        "#### Task 2: Filtering and Columnar operations\n",
        "\n",
        "Filtering and Column operations are important to select relevant data and apply useful transformations.\n"
      ]
    },
    {
      "cell_type": "markdown",
      "metadata": {
        "id": "PZqhSV7rV_ew"
      },
      "source": [
        "We first filter to only retain rows with mpg > 18. We use the `filter()` function for this.\n"
      ]
    },
    {
      "cell_type": "code",
      "execution_count": 25,
      "metadata": {
        "id": "PrkeXWmeV_ew",
        "outputId": "acb17d25-59d1-4880-ac0b-08fcdbf28fb4",
        "colab": {
          "base_uri": "https://localhost:8080/"
        }
      },
      "outputs": [
        {
          "output_type": "stream",
          "name": "stdout",
          "text": [
            "+-----------+----+---+-----+---+----+----+-----+---+---+----+----+\n",
            "| Unnamed: 0| mpg|cyl| disp| hp|drat|  wt| qsec| vs| am|gear|carb|\n",
            "+-----------+----+---+-----+---+----+----+-----+---+---+----+----+\n",
            "| Duster 360|14.3|  8|360.0|245|3.21|3.57|15.84|  0|  0|   3|   4|\n",
            "|  Merc 280C|17.8|  6|167.6|123|3.92|3.44| 18.9|  1|  0|   4|   4|\n",
            "| Merc 450SE|16.4|  8|275.8|180|3.07|4.07| 17.4|  0|  0|   3|   3|\n",
            "| Merc 450SL|17.3|  8|275.8|180|3.07|3.73| 17.6|  0|  0|   3|   3|\n",
            "|Merc 450SLC|15.2|  8|275.8|180|3.07|3.78| 18.0|  0|  0|   3|   3|\n",
            "+-----------+----+---+-----+---+----+----+-----+---+---+----+----+\n",
            "only showing top 5 rows\n",
            "\n"
          ]
        }
      ],
      "source": [
        "sdf.filter(sdf['mpg'] < 18).show(5)"
      ]
    },
    {
      "cell_type": "markdown",
      "metadata": {
        "id": "SiGNLPR7V_ex"
      },
      "source": [
        "Operating on Columns\n",
        "\n",
        "Spark also provides a number of functions that can be directly applied to columns for data processing and aggregation. The example below shows the use of basic arithmetic functions to convert the weight values from `lb` to `metric ton`.\n",
        "We create a new column called `wtTon` that has the weight from the `wt` column converted to metric tons.\n"
      ]
    },
    {
      "cell_type": "code",
      "execution_count": 19,
      "metadata": {
        "id": "K356MoCeV_ex",
        "outputId": "d8cb69a7-a481-4c16-86ed-2fbdf221eaa5",
        "colab": {
          "base_uri": "https://localhost:8080/"
        }
      },
      "outputs": [
        {
          "output_type": "stream",
          "name": "stdout",
          "text": [
            "+-----------------+----+---+-----+---+----+-----+-----+---+---+----+----+-------+\n",
            "|       Unnamed: 0| mpg|cyl| disp| hp|drat|   wt| qsec| vs| am|gear|carb|  wtTon|\n",
            "+-----------------+----+---+-----+---+----+-----+-----+---+---+----+----+-------+\n",
            "|        Mazda RX4|21.0|  6|160.0|110| 3.9| 2.62|16.46|  0|  1|   4|   4|  1.179|\n",
            "|    Mazda RX4 Wag|21.0|  6|160.0|110| 3.9|2.875|17.02|  0|  1|   4|   4|1.29375|\n",
            "|       Datsun 710|22.8|  4|108.0| 93|3.85| 2.32|18.61|  1|  1|   4|   1|  1.044|\n",
            "|   Hornet 4 Drive|21.4|  6|258.0|110|3.08|3.215|19.44|  1|  0|   3|   1|1.44675|\n",
            "|Hornet Sportabout|18.7|  8|360.0|175|3.15| 3.44|17.02|  0|  0|   3|   2|  1.548|\n",
            "+-----------------+----+---+-----+---+----+-----+-----+---+---+----+----+-------+\n",
            "only showing top 5 rows\n",
            "\n"
          ]
        }
      ],
      "source": [
        "sdf.withColumn('wtTon', sdf['wt'] * 0.45).show(5)"
      ]
    },
    {
      "cell_type": "markdown",
      "metadata": {
        "id": "Yssoh6I4V_ey"
      },
      "source": [
        "## Exercise 4: Grouping and Aggregation\n",
        "\n",
        "Spark DataFrames support a number of commonly used functions to aggregate data after grouping. In this example we compute the average weight of cars by their cylinders as shown below.\n"
      ]
    },
    {
      "cell_type": "code",
      "execution_count": 20,
      "metadata": {
        "id": "Jyl3Q4HTV_ey",
        "outputId": "a325e1e3-38bc-4a9d-bef8-0853097ceffe",
        "colab": {
          "base_uri": "https://localhost:8080/"
        }
      },
      "outputs": [
        {
          "output_type": "stream",
          "name": "stdout",
          "text": [
            "+---+-----------------+\n",
            "|cyl|          avg(wt)|\n",
            "+---+-----------------+\n",
            "|  6|3.117142857142857|\n",
            "|  8|3.999214285714286|\n",
            "|  4|2.285727272727273|\n",
            "+---+-----------------+\n",
            "\n"
          ]
        }
      ],
      "source": [
        "sdf.groupby(['cyl'])\\\n",
        ".agg({\"wt\": \"AVG\"})\\\n",
        ".show(5)"
      ]
    },
    {
      "cell_type": "markdown",
      "metadata": {
        "id": "_GCIUyvoV_ey"
      },
      "source": [
        "We can also sort the output from the aggregation to get the most common cars.\n"
      ]
    },
    {
      "cell_type": "code",
      "execution_count": 21,
      "metadata": {
        "id": "5chXDEIKV_ez",
        "outputId": "e98c98c8-47f1-4417-cad1-3d8d2ebb649e",
        "colab": {
          "base_uri": "https://localhost:8080/"
        }
      },
      "outputs": [
        {
          "output_type": "stream",
          "name": "stdout",
          "text": [
            "+---+---------+\n",
            "|cyl|count(wt)|\n",
            "+---+---------+\n",
            "|  8|       14|\n",
            "|  4|       11|\n",
            "|  6|        7|\n",
            "+---+---------+\n",
            "\n"
          ]
        }
      ],
      "source": [
        "car_counts = sdf.groupby(['cyl'])\\\n",
        ".agg({\"wt\": \"count\"})\\\n",
        ".sort(\"count(wt)\", ascending=False)\\\n",
        ".show(5)\n"
      ]
    },
    {
      "cell_type": "markdown",
      "metadata": {
        "id": "JPWlXj5HV_ez"
      },
      "source": [
        "## Practice Questions\n"
      ]
    },
    {
      "cell_type": "markdown",
      "metadata": {
        "id": "Yi3a1gVcV_ez"
      },
      "source": [
        "### Question 1 - DataFrame basics\n"
      ]
    },
    {
      "cell_type": "markdown",
      "metadata": {
        "id": "Dx6IBBQwV_e0"
      },
      "source": [
        "Display the first 5 rows of all cars that have atleast 5 cylinders.\n"
      ]
    },
    {
      "cell_type": "code",
      "execution_count": 28,
      "metadata": {
        "id": "MXTwgjHxV_e0",
        "colab": {
          "base_uri": "https://localhost:8080/"
        },
        "outputId": "25f4aa79-a04e-45a1-a44b-859e159bf5d8"
      },
      "outputs": [
        {
          "output_type": "stream",
          "name": "stdout",
          "text": [
            "+-----------------+----+---+-----+---+----+-----+-----+---+---+----+----+\n",
            "|       Unnamed: 0| mpg|cyl| disp| hp|drat|   wt| qsec| vs| am|gear|carb|\n",
            "+-----------------+----+---+-----+---+----+-----+-----+---+---+----+----+\n",
            "|        Mazda RX4|21.0|  6|160.0|110| 3.9| 2.62|16.46|  0|  1|   4|   4|\n",
            "|    Mazda RX4 Wag|21.0|  6|160.0|110| 3.9|2.875|17.02|  0|  1|   4|   4|\n",
            "|   Hornet 4 Drive|21.4|  6|258.0|110|3.08|3.215|19.44|  1|  0|   3|   1|\n",
            "|Hornet Sportabout|18.7|  8|360.0|175|3.15| 3.44|17.02|  0|  0|   3|   2|\n",
            "|          Valiant|18.1|  6|225.0|105|2.76| 3.46|20.22|  1|  0|   3|   1|\n",
            "+-----------------+----+---+-----+---+----+-----+-----+---+---+----+----+\n",
            "only showing top 5 rows\n",
            "\n"
          ]
        }
      ],
      "source": [
        "# Code block for learners to answer\n",
        "sdf.filter(sdf['cyl']>=5).show(5)"
      ]
    },
    {
      "cell_type": "markdown",
      "metadata": {
        "id": "mJYZKjroV_e0"
      },
      "source": [
        "### Question 2 - DataFrame aggregation\n"
      ]
    },
    {
      "cell_type": "markdown",
      "metadata": {
        "id": "M0F6YHFNV_e0"
      },
      "source": [
        "Using the functions and tables shown above, print out the mean weight of a car in our database in metric tons.\n"
      ]
    },
    {
      "cell_type": "code",
      "execution_count": 32,
      "metadata": {
        "id": "5jbe380NV_e0",
        "colab": {
          "base_uri": "https://localhost:8080/"
        },
        "outputId": "1ac349bc-60a7-4fe1-d8dc-69cf2a891fc1"
      },
      "outputs": [
        {
          "output_type": "stream",
          "name": "stdout",
          "text": [
            "+-------+\n",
            "|avg(wt)|\n",
            "+-------+\n",
            "|3.21725|\n",
            "+-------+\n",
            "\n"
          ]
        }
      ],
      "source": [
        "# Code block for learners to answer\n",
        "sdf.agg({\"wt\": \"AVG\"}).show()"
      ]
    },
    {
      "cell_type": "markdown",
      "metadata": {
        "id": "92cP14goV_e1"
      },
      "source": [
        "### Question 3 - DataFrame columnar operations\n"
      ]
    },
    {
      "cell_type": "markdown",
      "metadata": {
        "id": "KM0BHg7SV_e1"
      },
      "source": [
        "In the earlier sections of this notebook, we have created a new column called `wtTon` to indicate the weight in metric tons using a standard conversion formula. In this case we have applied this directly to the dataframe column `wt` as it is a linear operation (multiply by 0.45). Similarly, as part of this exercise, create a new column for mileage in `kmpl` (kilometer-per-liter) instead of `mpg`(miles-per-gallon) by using a conversion factor of 0.425.\n",
        "\n",
        "Additionally sort the output in decreasing order of mileage in kmpl.\n"
      ]
    },
    {
      "cell_type": "code",
      "execution_count": 38,
      "metadata": {
        "id": "Li7wtTzPV_e1",
        "colab": {
          "base_uri": "https://localhost:8080/"
        },
        "outputId": "231ebc14-fb15-466b-eca3-d2830b9c8d76"
      },
      "outputs": [
        {
          "output_type": "stream",
          "name": "stdout",
          "text": [
            "+--------------+----+---+-----+---+----+-----+-----+---+---+----+----+------------------+\n",
            "|    Unnamed: 0| mpg|cyl| disp| hp|drat|   wt| qsec| vs| am|gear|carb|              kmpl|\n",
            "+--------------+----+---+-----+---+----+-----+-----+---+---+----+----+------------------+\n",
            "|Toyota Corolla|33.9|  4| 71.1| 65|4.22|1.835| 19.9|  1|  1|   4|   1|14.407499999999999|\n",
            "|      Fiat 128|32.4|  4| 78.7| 66|4.08|  2.2|19.47|  1|  1|   4|   1|             13.77|\n",
            "|   Honda Civic|30.4|  4| 75.7| 52|4.93|1.615|18.52|  1|  1|   4|   2|             12.92|\n",
            "|  Lotus Europa|30.4|  4| 95.1|113|3.77|1.513| 16.9|  1|  1|   5|   2|             12.92|\n",
            "|     Fiat X1-9|27.3|  4| 79.0| 66|4.08|1.935| 18.9|  1|  1|   4|   1|           11.6025|\n",
            "| Porsche 914-2|26.0|  4|120.3| 91|4.43| 2.14| 16.7|  0|  1|   5|   2|11.049999999999999|\n",
            "|     Merc 240D|24.4|  4|146.7| 62|3.69| 3.19| 20.0|  1|  0|   4|   2|             10.37|\n",
            "|      Merc 230|22.8|  4|140.8| 95|3.92| 3.15| 22.9|  1|  0|   4|   2|              9.69|\n",
            "|    Datsun 710|22.8|  4|108.0| 93|3.85| 2.32|18.61|  1|  1|   4|   1|              9.69|\n",
            "| Toyota Corona|21.5|  4|120.1| 97| 3.7|2.465|20.01|  1|  0|   3|   1|            9.1375|\n",
            "+--------------+----+---+-----+---+----+-----+-----+---+---+----+----+------------------+\n",
            "only showing top 10 rows\n",
            "\n"
          ]
        }
      ],
      "source": [
        "# Code block for learners to answer\n",
        "sdf.withColumn('kmpl', sdf['mpg'] * 0.425) \\\n",
        ".sort(\"kmpl\", ascending=False).show(10)"
      ]
    },
    {
      "cell_type": "markdown",
      "metadata": {
        "id": "rshc9YL3V_e1"
      },
      "source": [
        "Double-click **here** for a hint.\n",
        "\n",
        "<!-- The hint is below:\n",
        "\n",
        "1. Use the functions `withColumn()` to create a new column with a linear operation of an existing column. \n",
        "2. Use the `sort()` function to order results.\n",
        "\n",
        "-->\n"
      ]
    },
    {
      "cell_type": "markdown",
      "metadata": {
        "id": "4Pf6t6kLV_e1"
      },
      "source": [
        "Double-click **here** for the solution.\n",
        "\n",
        "<!-- The answer is below:\n",
        "\n",
        "sdf.withColumn('kmpl', sdf['mpg'] * 0.425).sort('mpg', ascending=False).show()\n",
        "-->\n"
      ]
    },
    {
      "cell_type": "markdown",
      "metadata": {
        "id": "nD9IJCAsV_e2"
      },
      "source": [
        "## Authors\n"
      ]
    },
    {
      "cell_type": "markdown",
      "metadata": {
        "id": "SZlkTPp8V_e2"
      },
      "source": [
        "[Karthik Muthuraman](https://www.linkedin.com/in/karthik-muthuraman/?utm_medium=Exinfluencer&utm_source=Exinfluencer&utm_content=000026UJ&utm_term=10006555&utm_id=NA-SkillsNetwork-Channel-SkillsNetworkCoursesIBMBD0225ENSkillsNetwork25716109-2021-01-01)\n"
      ]
    },
    {
      "cell_type": "markdown",
      "metadata": {
        "id": "0sMlTq7YV_e2"
      },
      "source": [
        "### Other Contributors\n"
      ]
    },
    {
      "cell_type": "markdown",
      "metadata": {
        "id": "Cuh4EXJyV_e2"
      },
      "source": [
        "[Jerome Nilmeier](https://github.com/nilmeier)\n"
      ]
    },
    {
      "cell_type": "markdown",
      "metadata": {
        "id": "uTdcEklJV_e2"
      },
      "source": [
        "## Change Log\n"
      ]
    },
    {
      "cell_type": "markdown",
      "metadata": {
        "id": "it3cwEaAV_e3"
      },
      "source": [
        "| Date (YYYY-MM-DD) | Version | Changed By | Change Description |\n",
        "| ----------------- | ------- | ---------- | ------------------ |\n",
        "| 2021-07-02        | 0.2     | Karthik    | Beta launch        |\n",
        "| 2021-06-30        | 0.1     | Karthik    | First Draft        |\n"
      ]
    },
    {
      "cell_type": "markdown",
      "metadata": {
        "id": "DkRapWchV_e3"
      },
      "source": [
        "Copyright © 2021 IBM Corporation. All rights reserved.\n"
      ]
    }
  ],
  "metadata": {
    "kernelspec": {
      "display_name": "Python 3",
      "language": "python",
      "name": "python3"
    },
    "language_info": {
      "codemirror_mode": {
        "name": "ipython",
        "version": 3
      },
      "file_extension": ".py",
      "mimetype": "text/x-python",
      "name": "python",
      "nbconvert_exporter": "python",
      "pygments_lexer": "ipython3",
      "version": "3.7.1"
    },
    "colab": {
      "name": "DataFrames.ipynb",
      "provenance": [],
      "collapsed_sections": [
        "bHvKw6IMV_eo",
        "5PdY97ZmV_eq"
      ]
    }
  },
  "nbformat": 4,
  "nbformat_minor": 0
}